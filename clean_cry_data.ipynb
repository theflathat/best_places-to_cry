{
 "cells": [
  {
   "cell_type": "code",
   "execution_count": 1,
   "metadata": {},
   "outputs": [],
   "source": [
    "import pandas as pd\n",
    "from collections import Counter"
   ]
  },
  {
   "cell_type": "code",
   "execution_count": 2,
   "metadata": {},
   "outputs": [],
   "source": [
    "cry = pd.read_excel('./cry_data.xlsx')"
   ]
  },
  {
   "cell_type": "code",
   "execution_count": 3,
   "metadata": {},
   "outputs": [
    {
     "data": {
      "text/plain": [
       "dict_items([('On', 5), ('the', 117), ('front', 4), ('steps', 1), ('of', 56), ('Barrett', 1), ('at', 27), ('11', 1), ('pm', 1), ('as', 10), ('my', 57), ('friend', 1), ('comforted', 1), ('me', 22), ('and', 68), ('people', 3), ('awkwardly', 1), ('walked', 1), ('around', 3), ('to', 65), ('get', 5), ('inside', 1), ('swemromas,', 1), ('when', 8), ('i', 12), ('realized', 1), ('that', 18), ('someone', 4), ('has', 2), ('been', 2), ('taking', 2), ('down', 5), ('fliers', 1), ('advertising', 1), ('for', 23), ('abortion', 1), ('speakout', 1), ('isc', 2), ('tables', 2), ('after', 12), ('realizing', 1), ('there', 5), ('is', 8), ('no', 3), ('point', 1), ('in', 54), ('foreseeable', 1), ('future', 1), ('where', 4), ('will', 3), ('have', 10), ('enough', 1), ('time', 4), ('make', 1), ('babka', 1), ('running', 3), ('DoG', 2), ('part', 1), ('2', 1), ('bc', 5), ('I', 45), ('was', 30), ('late', 1), ('a', 53), ('gig', 1), ('lost', 1), ('expensive', 1), (\"witch's\", 1), ('hat', 1), ('just', 8), ('really', 4), ('stressed', 2), ('out', 3), ('table', 3), ('lodge', 1), ('one', 6), ('during', 6), ('football', 1), ('game', 1), ('came', 1), ('dad', 1), ('he', 5), ('told', 3), ('supported', 1), ('In', 16), ('shower', 3), ('3rd', 6), ('floor', 19), ('Monroe', 4), ('because', 16), ('it', 14), ('freaking', 1), ('hard', 2), ('be', 4), ('human', 1), ('sometimes', 2), ('2nd', 2), ('swem', 2), ('on', 33), (\"you'd\", 1), ('murdered', 1), ('sniffling', 1), ('1st', 1), ('might', 1), ('nerve', 1), ('try', 1), ('TALK', 1), ('you', 3), ('Happy', 2), ('cry', 8), ('outside', 8), ('Swem', 6), ('Spring', 1), ('Finals', 1), ('therapy', 1), ('dog', 2), ('met', 1), ('while', 12), ('training', 1), ('puppy', 1), ('full', 1), ('grown', 2), ('remembered', 1), ('started', 2), ('pawing', 1), ('cuddling', 1), ('up', 6), ('had', 8), ('taken', 1), ('final', 1), ('beautiful', 3), ('sidewalk', 1), ('next', 4), ('Williamsburg', 3), ('Regional', 1), ('Library', 1), ('slipping', 1), ('mud,', 1), ('falling', 1), ('puddle,', 1), ('dropping', 1), ('$8', 1), ('ice', 1), ('cream', 1), ('sandwich.', 1), ('bathroom', 7), ('tyler', 1), ('meeting', 1), ('w', 3), ('professor', 4), ('talk', 2), ('about', 14), ('12', 1), ('page', 3), ('research', 3), ('paper', 2), ('written,', 1), ('change', 1), ('thesis', 1), (':’-)', 1), ('basement', 2), ('unit', 1), ('NOT', 2), ('mine,', 1), ('watching', 4), ('tiktok', 1), ('totally', 2), ('100%', 1), ('sober', 1), ('yep', 1), ('Admissions,', 1), ('thinking', 2), ('future.', 1), ('Center', 2), ('bench', 5), ('against', 1), ('back', 5), ('wall', 3), ('business', 1), ('school,', 1), ('then', 5), ('10', 3), ('minutes', 4), ('later,', 1), ('third', 6), ('lemon', 1), ('right', 4), ('by', 7), ('kitchen,', 2), ('accompanied', 1), ('three', 2), ('amazing', 2), ('souls', 1), ('who', 3), ('are', 4), ('always', 1), ('#SadBoiHours', 1), ('Literally', 2), ('everywhere', 2), ('dating', 1), ('garbage', 1), ('never', 2), ('man', 1), ('romantic', 1), ('way', 12), ('ever', 3), ('again', 1), ('Back', 1), ('corner', 2), ('Marketplace', 3), ('Ewell', 3), ('shortly', 1), ('thereafter', 1), ('cold', 1), (\"wasn't\", 2), ('dressed', 1), ('well', 3), ('horse', 1), ('shit', 1), ('field', 1), ('trips', 1), ('kept', 1), ('getting', 2), ('needed', 1), ('pee', 1), (\"didn't\", 1), ('want', 2), ('but', 8), ('bitch', 2), ('gotta', 2), ('do', 6), ('what', 5), ('4', 1), ('her', 3), ('mental', 3), ('health', 3), ('The', 8), ('cookout', 1), ('drive-thru', 1), ('plague,', 1), ('life,', 2), ('hunger', 1), ('kick', 1), ('ass.', 1), ('(Also', 1), ('wtf', 1), ('everyone', 2), ('eats', 1), ('cookout.)', 1), ('DuPont', 2), ('felt', 2), ('overwhelmed', 2), ('also', 5), ('little', 2), ('bit', 1), ('got', 6), ('shampoo', 1), ('eyes', 2), ('top', 1), ('level', 1), ('Prince', 1), ('George', 1), ('Parking', 2), ('Garage,', 1), ('off', 1), ('North', 2), ('Henry', 1), ('street.', 1), ('Cried', 5), ('sunsets', 2), ('(great', 1), ('view', 1), ('from', 15), ('there!),', 1), ('cried', 19), ('rain,', 1), ('pain.', 1), ('Would', 1), ('recommend', 3), ('spot', 3), ('go', 1), ('in.', 1), ('Aromas.', 2), ('Corner', 1), ('booth.', 1), ('Sobbing', 1), ('over', 8), ('an', 8), ('essay', 1), ('(but', 1), ('not', 9), ('essay).', 1), ('During', 1), ('open-mic', 1), ('night.', 1), ('Japanese', 1), ('class', 5), ('today', 6), ('we', 1), ('watched', 1), ('sad', 4), ('music', 1), ('video', 1), ('fragile', 1), ('emotional', 1), ('state', 1), ('could', 2), ('handle', 1), ('would', 7), ('difficult', 1), ('if', 3), ('impossible', 1), ('find', 2), ('place', 1), ('this', 14), ('campus', 4), ('first', 6), ('Sadler', 1), ('seat', 1), ('post', 3), ('office,', 1), ('mins', 1), ('later', 1), ('Tucker', 3), ('learning', 1), ('voter', 1), ('registration', 1), ('application', 1), ('denied', 1), ('(without', 1), ('reason)', 1), (\"can't\", 1), ('help', 3), ('fix', 1), ('our', 1), ('disaster', 1), ('government', 1), ('midterms', 2), ('terrace,', 2), ('calling', 1), ('mom,', 1), ('eating', 2), ('cookies', 1), ('she', 5), ('sent', 1), ('me,', 1), ('gave', 1), ('very', 3), ('reasonable', 1), ('advice', 1), ('did', 1), ('hear!', 1), ('middle', 4), ('stall', 3), ('swem..during', 1), ('PEAK', 1), ('hours', 2), ('with', 10), ('LOTS', 1), ('sniffling!', 1), ('halfway', 2), ('through', 1), ('walk', 1), ('wren', 1), ('Morton', 8), ('every', 4), ('TR', 1), ('Ethan', 1), ('Brown', 1), ('&', 4), ('Zoe', 1), ('Connell', 1), ('room', 5), ('friends', 3), ('left', 2), ('alone.', 1), ('stairwell', 1), ('finding', 1), ('myself', 3), ('much', 4), ('unable', 1), ('take', 1), ('another', 1), ('step', 1), ('closer', 1), ('orgo', 1), ('II', 1), ('classroom!', 1), ('bed', 1), ('now.', 1), ('Trying', 1), ('wake', 1), ('roommate', 1), ('', 8), ('Dock', 1), ('near', 1), ('Keck', 1), ('lab...', 1), ('more', 3), ('times', 1), ('than', 3), ('can', 4), ('count.', 1), ('hike', 1), ('across', 3), ('CW', 1), ('spot.', 1), (\"it's\", 2), ('classic', 1), ('looking', 2), ('moodily', 1), ('lake', 1), ('last', 5), ('week,', 1), ('Spotswood', 1), ('Gooch', 1), ('Botetourt', 1), ('courtyard', 1), ('area,', 1), ('entire', 2), ('road', 1), ('circling', 1), ('Kaplan', 1), ('Hall', 2), ('twice,', 1), ('multiple', 1), ('places', 1), ('wherever', 1), ('park,', 1), ('BCM,', 1), ('Chandler', 1), ('Hall,', 1), ('Ho', 1), ('House,', 1), ('amphitheatre', 1), ('Crim', 1), ('Dell,', 2), ('Grim', 1), ('ISC,', 1), ('Wren', 1), ('second', 4), ('basement,', 1), ('specifically', 1), ('individual', 1), ('study', 2), ('rooms.', 1), ('think', 1), (\"that's\", 1), ('all.', 1), ('lot.', 1), ('A', 1), ('throwback', 1), ('amphitheater', 2), ('crim', 1), ('dell', 1), ('pit', 1), ('Into', 1), ('Woods', 2), ('damn', 1), ('nightmare;', 1), ('Also', 2), ('literally', 2), ('entirety', 1), ('say', 3), ('whole', 2), ('Music', 1), ('Dept', 1), ('knows', 1), (\"I'm\", 2), ('mess', 1), ('facstaff', 1), ('parking', 2), ('lot', 4), ('behind', 5), ('3', 5), ('am', 3), ('all', 12), ('Richmond', 3), ('Road', 3), ('Movie', 1), ('Tavern', 1), ('Dawson,', 1), ('twice', 1), ('#tbt', 1), ('group', 1), ('swem.', 1), ('actually', 1), ('Sweet', 1), ('Briar', 1), ('College', 2), ('(although', 1), ('fiance', 1), ('some', 1), ('attended', 1), ('W&M)', 1), ('wanted', 1), ('thank', 2), (\"y'all\", 1), ('brilliant', 1), ('idea', 1), ('-', 2), ('made', 2), ('SBC', 1), ('version', 1), (\"y'all's\", 1), ('struggles', 2), ('W&M', 1), ('stress', 1), ('culture', 1), ('resonate', 1), ('us', 3), ('here,', 1), ('so', 5), ('you.', 1), ('hope', 3), ('lovely', 2), ('day', 6), ('filled', 1), ('only', 1), ('happy', 2), ('tears', 4), ('teachers’', 1), ('“lounge”', 1), ('Andrews,', 1), ('blasting', 1), ('Alvin', 1), ('Chipmunks', 1), ('Christmas', 1), ('album', 1), ('3am.', 1), ('212', 1), ('wouldn’t', 1), ('give', 1), ('extension', 1), ('mid-lecture', 1), ('blue', 1), ('monkey', 1), ('bars', 1), ('hoco', 1), ('2017', 1), ('booth', 1), ('Green', 1), ('Leafe,', 1), ('once', 3), ('month', 1), ('Is', 1), ('chill', 1), ('alums', 2), ('their', 5), ('iconic', 1), ('cries', 1), ('cause', 1), ('graduated', 1), ('May', 1), ('discovered', 1), ('love', 1), ('share', 1), ('sobbed', 1), ('shamelessly', 1), ('butterfly', 1), ('Muscarelle', 1), ('pretending', 1), ('read', 1), ('book', 1), ('comprehensive', 1), ('history', 1), ('Wawa', 1), ('grass', 2), ('patch', 1), ('wall.', 1), ('Sitting', 2), ('under', 1), ('tree', 2), ('broad', 1), ('daylight,', 1), ('hoping', 2), ('sunglasses', 3), ('conceal', 1), ('🙃', 1), ('Sociology', 1), ('library.', 1), ('several', 1), ('different', 1), ('occasions', 1), (\"I've\", 4), ('terrace', 1), ('peak', 1), ('TIMES;', 1), ('Only', 1), ('like', 5), ('75%', 1), ('school', 4), ('saw', 1), ('each', 1), ('fine', 1), ('Old', 1), ('annual', 1), ('big', 2), ('ole', 1), ('soul', 1), ('B', 1), ('School', 1), ('Courtyard', 1), ('semester', 2), ('between', 1), ('brick', 1), ('along', 1), ('sidewalk,', 1), ('windows', 1), ('above', 1), ('head', 1), ('weren’t', 1), ('letting', 1), ('any', 3), ('residents', 1), ('hear', 1), ('sobbing', 4), ('Neatly', 1), ('single', 2), ('(at', 1), ('least', 1), ('15', 1), ('min', 1), ('before', 2), ('starts);', 1), ('garage', 1), ('can’t', 2), ('finish', 1), ('midterm', 1), ('picnic', 2), ('yates', 1), ('stith', 1), ('random', 1), ('echoey', 1), ('enclaves.', 1), ('amplified', 1), ('hear!!', 1), ('points', 2), ('gryffindor', 1), ('ur', 1), ('look', 1), ('end', 2), ('~10:02', 1), ('pm:', 1), ('landrum', 1), ('drive,', 1), ('staring', 1), ('moon', 1), ('(a', 1), ('cry)', 1), ('Arts', 1), ('America,', 1), ('silently,', 1), ('notes,', 1), ('bitches', 1), ('stuff', 1), ('done', 1), ('Under', 1), ('street', 1), ('lamp', 1), ('flickers', 1), ('Jamestown', 2), ('walking', 5), ('Landrum.', 1), ('elevator', 1), ('listening', 3), ('Garden', 1), ('State', 1), ('soundtrack', 1), ('dodging', 1), ('slow', 1), ('sidewalks', 1), ('goodwill', 1), ('Chick-fil-A,', 1), ('thirty', 1), ('other', 3), ('waiting', 2), ('food.', 1), ('And', 2), ('bee', 1), ('flew', 1), ('into', 1), ('milkshake', 1), ('I’d', 1), ('waited', 1), ('23', 1), ('for.', 1), ('I’m', 2), ('sure', 1), ('Andrews', 1), ('added', 1), ('list', 1), ('later.', 1), ('Great', 1), ('Right', 1), ('Andrew’s', 1), ('101', 1), ('those', 2), ('chairs', 1), ('“please', 1), ('move-', 1), ('required', 1), ('art', 1), ('exhibit”', 1), ('bookcase', 1), ('1am', 1), ('grind!', 1), ('better', 1), ('start', 1), ('your', 2), ('cuppa', 1), ('joe', 1), ('public', 1), ('crying??', 1), ('Steps', 1), ('finished', 1), ('lab', 2), ('quiz', 2), ('five', 1), ('clue', 1), ('doing', 1), ('Not', 2), ('Swemromas', 1), ('abridged', 1), ('version,', 1), ('library-quiet', 1), ('cry.', 1), ('going', 2), ('out.', 1), ('Live', 1), ('fast,', 1), ('die', 1), ('young,', 1), ('bad', 2), ('girls', 1), ('✌🏻', 1), ('elliptical', 1), ('gym', 1), ('senator', 1), ('mcconnell', 1), ('claim', 1), ('Dr.', 1), ('Blasey', 1), (\"Ford's\", 1), ('allegations', 1), ('were', 3), ('democrat', 1), ('tactic', 1), (\"kavanaugh's\", 1), ('nomination', 1), ('stopped', 1), ('swemromas', 3), ('overhearing', 1), ('conversation', 1), ('which', 1), ('upset', 1), ('work', 3), ('guilt', 1), ('how', 5), ('seemingly', 1), ('less', 1), ('feeling', 1), ('majorly', 1), ('inadequate', 1), ('#stressculture', 1), ('Bathroom', 2), ('Charles', 1), ('they', 4), (\"I'd\", 1), ('pay', 1), ('costs', 1), ('pocket.', 1), ('dorm', 3), ('(classic)', 1), ('doesn’t', 1), ('magnify', 1), ('sound', 1), ('Last', 1), ('night', 3), ('epitome', 1), ('college', 1), ('student.', 1), ('went', 1), ('exam,', 1), ('cheerful', 1), ('optimistic', 1), ('I,', 1), ('Lauren,', 1), ('prepared', 1), ('TWAMP.', 1), ('However,', 1), ('upon', 1), ('arriving', 1), ('henceforth', 1), ('known', 1), ('MORTON:', 1), ('THE', 1), ('HALL', 1), ('OF', 1), ('DOOM;', 1), ('stunned', 1), ('exam', 2), ('brutal', 1), ('beast', 1), ('incapable', 1), ('being', 3), ('slayed,', 1), ('myself,', 1), ('crying', 5), ('inadequacy', 1), ('Rec', 1), ('center.', 1), ('places,', 1), ('beat', 1), ('that?', 1), ('good', 2), ('luck', 1), ('sorry', 1), ('long', 2), ('post--I', 1), ('procrastinating.', 1), ('Sunken', 2), ('Gardens,', 1), ('lounge', 1), ('playing', 2), ('taboo', 1), ('goes', 2), ('“in', 1), ('monopoly', 1), ('happens', 1), ('lose?”', 1), ('caroline', 2), ('“TO', 1), ('JAIL.”', 1), ('Echo', 1), ('Hardy', 1), ('currently', 1), ('bike', 1), ('rack', 1), ('tucker', 1), ('orientation', 1), ('!!', 1), ('Swemromas.', 1), ('even', 2), ('gonna', 1), ('hide', 1), ('crazy.', 1), ('rec.', 1), ('classes!', 1), ('Walking', 1), ('home', 3), ('drunk', 1), ('wawa,', 1), ('abt', 1), ('complicated', 1), ('relationship', 1), ('fact', 1), ('leave', 1), ('forever', 1), ('rn', 2), ('marketplace', 1), ('cus', 1), ('reminded', 1), ('kids', 1), ('cancers', 1), ('vaccines', 1), ('immune', 1), ('systems', 1), ('compromised', 1), ('Prof.', 2), ('Kohli’s', 1), ('class;', 1), ('There', 1), ('inspiring', 1), ('guest', 1), ('speaker', 1), ('whose', 1), ('life', 2), ('story', 1), ('hit', 1), ('too', 2), ('close', 2), ('me.', 1), (\"professor's\", 1), ('office', 4), ('hours,', 1), ('telling', 1), (\"hadn't\", 1), ('written', 1), ('issues', 1), ('(even', 1), ('extension)', 1), ('v', 1), ('supportive', 1), ('allowed', 1), ('own', 1), ('pace', 1), ('reminding', 1), ('comes', 2), ('My', 1), ('submitting', 1), ('PRP', 1), ('Research', 1), ('Methods', 1), ('bathroom,', 1), ('lots', 1), ('space', 1), ('emotions', 1), ('(again,', 1), ('it’s', 1), ('pretty', 1), ('useful)', 1), ('Just', 1), ('burned', 1), ('poptarts', 1), ('jeff', 1), ('endless', 1), ('Currently', 2), ('tearing', 1), ('\"Everybody', 1), ('Hurts\"', 1), ('Spotify', 1), ('Rn', 1), ('neil', 1), ('young', 1), ('creek', 1), ('incredible', 1), ('unbelievable', 1), ('loved', 1), ('real', 1), ('question', 1), ('is:', 1), (\"haven't\", 1), ('cried?', 1), ('Professor', 1), (\"Duerden's\", 1), ('office.', 2), (\"She's\", 1), ('rllllly', 1), ('nice', 2), ('it.', 1), ('cosí', 1), ('Shanghai', 1), ('chicken', 1), ('salad', 1), ('(sub', 1), ('tofu', 1), ('add', 1), ('avocado)', 1), ('whilst', 1), ('fogging', 1), ('glasses', 2), ('Business', 1), ('cafe', 1), ('sushi', 1), ('Thomas', 1), ('Jefferson', 1), ('Merchant', 1), ('Square.', 1), ('He', 1), ('didn’t', 1), ('offer', 1), ('tissue', 1), ('20', 1), ('Coco', 1), ('Matoaka', 1), ('Ampitheatre', 1), ('classes', 1), ('Pereira’s', 1), ('office;', 1), ('officially', 1), ('gotten', 2), ('accommodations', 1), ('ADHD', 1), ('man,', 1), ('his', 4), ('heart', 1), ('gold,', 1), ('promised', 1), ('whatever', 1), ('took', 1), ('class.', 1), ('It', 1), ('most', 1), ('genuine', 1), ('support', 1), ('1/2', 1), ('years', 2), ('school.', 1), ('forgot', 1), ('Tyler', 1), ('spooked', 1), ('person', 1), ('door.', 1), ('professors', 2), (\"Stiman's\", 1), ('urban', 1), ('sociology', 1), ('stops', 1), ('tell', 1), ('baby', 1), ('kicking.', 1), ('sweetest', 1), ('best', 1), ('exist.', 1), ('seeing', 1), ('bird', 1), ('corpse', 1), ('deleted', 1), ('gooch', 1), ('sister', 1), ('beginning', 1), ('year', 2), ('boy', 1), ('both', 1), ('bottles', 1), ('water', 1), ('“I', 1), ('everything’s', 1), ('okay”', 1), ('ran', 2), ('away', 1), ('9:12pm', 1), ('Kate', 1), ('thing', 1), ('steep', 1), ('hill', 1), ('matoaka', 1), ('woods', 1), ('emotionally', 1), ('fueled', 1), ('run', 1), ('radio', 2), ('heroic', 1), ('acts', 1), ('courage', 1), ('super', 1), ('sadler', 2), ('shoutout', 1), ('F', 1), ('Geology', 1), ('Exam', 1), ('pine', 1), ('washington', 1), ('violently', 1), ('laverne', 1), ('cox,', 1), ('cant', 1), ('contain', 1), ('admiration', 1), ('Griffioen’s', 1), ('physics', 1), ('honors', 1), ('exclusively', 1), ('hours.', 1), ('Bonus', 1), ('\"it\\'s', 1), ('okay,', 1), ('people\"', 1), ('Gardens', 1), ('blackbear', 1), ('Uhhh', 1), ('new', 1), ('member', 1), ('here', 1), ('Lil', 1), ('TBT.', 1), ('two', 3), ('weeks', 1), ('ago', 1), ('(the', 2), ('withdraw', 1), ('classes)', 1), ('THREE', 1), ('offices', 1), ('holy', 1), ('trinity', 1), ('basically', 1), ('favorite', 2), ('currently,', 1), ('sunky', 1), ('gs,', 1), ('Basement', 1), ('piano', 1), ('practise', 1), ('episode', 2), ('Queer', 1), ('Eye', 1), ('ludwell', 2), ('AJ', 1), ('out)', 1), ('tbh', 1), ('live', 1), ('shoes', 1), ('dead', 1), ('within', 1), ('24', 1), ('hours?', 1), ('macgowan’s', 1), ('gender', 1), ('neutral', 1), ('Blow', 1), ('Started', 1), ('rd', 1), ('meridian', 1), ('continued', 1), ('East', 1), ('Lounge', 1), ('kitchen.', 1), ('Every', 1), ('Saturday', 1), ('January-March', 1), ('year.', 1), ('10/10', 1), ('cook', 1), ('ramen.', 1), ('scenes', 1), ('Up', 1), ('small,', 1), ('promptly', 1), ('buy', 1), ('food', 1), ('console', 1), ('(shoutout', 1), ('Zoë', 1), ('Bowen', 1), ('Smith', 1), ('me)', 1), ('calc', 1), ('1', 1), ('professor’s', 1), ('80', 1), ('thought', 1), ('i’d', 1), ('failed', 1), ('completely.', 1), ('rainy', 2), ('period', 1), ('week', 1), ('bombed', 1), ('midterms,', 1), ('“thanks', 1), ('causing', 1), ('Complete', 1), ('breakdown”', 1), ('tears!', 1), ('laptop', 2), ('broke', 1), ('file', 1), ('gone.', 1), ('Called', 1), ('boyfriend', 1), ('said:”you', 1), ('use', 1), ('midterm?', 1), ('Lol.”', 1), (\"advisor's\", 1), ('josh', 1), ('puzey', 1), ('advisor', 1), ('10/10.', 1), ('great', 1), ('managing', 1), (\"advisees'\", 1), ('breakdowns.', 1), ('Oh', 1), ('wow', 1), ('hits', 1), ('pics', 1), ('Tyler!', 1), ('Where', 1), ('gov/pubpol/econ', 1), ('criers?', 1), ('Know', 1), ('dark', 1), ('side', 1), (\"you're\", 1), ('display?', 1), ('there.', 1), ('Sundial!!', 1), ('petting', 1), ('zoo', 1), ('sunkie', 1), ('g’s', 1), ('piglets', 1), ('wagging', 1), ('tails', 1), ('cute', 1), ('sophomore', 1), ('deep', 1), ('trails,', 1), ('concrete', 1), ('staircases.', 1), ('spring', 1), ('afternoon,', 1), ('flowers', 1), ('greenery', 1), ('feel', 1), ('despondent', 1), ('forest', 1), ('nymph', 1), ('Renaissance', 1), ('painting.', 1), ('sundial', 1), ('dentist', 1), ('said', 1), ('patient', 1), (\"records...I've\", 1), ('Dr.Igor', 1)])"
      ]
     },
     "execution_count": 3,
     "metadata": {},
     "output_type": "execute_result"
    }
   ],
   "source": [
    "result = Counter(\" \".join(cry['Post'].values.tolist()).split(\" \")).items()\n",
    "result"
   ]
  },
  {
   "cell_type": "code",
   "execution_count": 4,
   "metadata": {
    "scrolled": true
   },
   "outputs": [],
   "source": [
    "result_series = pd.Series(list(result))"
   ]
  },
  {
   "cell_type": "code",
   "execution_count": 5,
   "metadata": {
    "scrolled": true
   },
   "outputs": [],
   "source": [
    "result_df = pd.DataFrame(data = result_series)"
   ]
  },
  {
   "cell_type": "code",
   "execution_count": 6,
   "metadata": {
    "scrolled": true
   },
   "outputs": [
    {
     "data": {
      "text/plain": [
       "0    object\n",
       "dtype: object"
      ]
     },
     "execution_count": 6,
     "metadata": {},
     "output_type": "execute_result"
    }
   ],
   "source": [
    "result_df.dtypes"
   ]
  },
  {
   "cell_type": "code",
   "execution_count": 7,
   "metadata": {},
   "outputs": [],
   "source": [
    "result_df.columns = ['word_count']"
   ]
  },
  {
   "cell_type": "code",
   "execution_count": 8,
   "metadata": {},
   "outputs": [],
   "source": [
    "result_df['word_count'] = result_df.word_count.astype(str)"
   ]
  },
  {
   "cell_type": "code",
   "execution_count": 9,
   "metadata": {},
   "outputs": [],
   "source": [
    "result_df['word_count'] = result_df.word_count.str.strip(')')\n",
    "result_df['word_count'] = result_df.word_count.str.strip('(')"
   ]
  },
  {
   "cell_type": "code",
   "execution_count": 10,
   "metadata": {},
   "outputs": [],
   "source": [
    "result_df['word_count'] = result_df.word_count.str.split(',')"
   ]
  },
  {
   "cell_type": "code",
   "execution_count": 11,
   "metadata": {},
   "outputs": [],
   "source": [
    "result_df['word'] = result_df.word_count.str.get(0)"
   ]
  },
  {
   "cell_type": "code",
   "execution_count": 12,
   "metadata": {},
   "outputs": [],
   "source": [
    "result_df['count'] = result_df.word_count.str.get(1)"
   ]
  },
  {
   "cell_type": "code",
   "execution_count": 13,
   "metadata": {},
   "outputs": [],
   "source": [
    "result_df['word'] = result_df['word'].str.lower()"
   ]
  },
  {
   "cell_type": "code",
   "execution_count": 14,
   "metadata": {},
   "outputs": [],
   "source": [
    "#result_df.to_csv('./cry_counts.csv')"
   ]
  }
 ],
 "metadata": {
  "kernelspec": {
   "display_name": "Python 3",
   "language": "python",
   "name": "python3"
  },
  "language_info": {
   "codemirror_mode": {
    "name": "ipython",
    "version": 3
   },
   "file_extension": ".py",
   "mimetype": "text/x-python",
   "name": "python",
   "nbconvert_exporter": "python",
   "pygments_lexer": "ipython3",
   "version": "3.6.6"
  }
 },
 "nbformat": 4,
 "nbformat_minor": 2
}
